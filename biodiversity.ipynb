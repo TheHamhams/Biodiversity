{
 "cells": [
  {
   "cell_type": "markdown",
   "metadata": {},
   "source": [
    "# Intro\n",
    "\n",
    "This project is designed to analyze the biodiversity in some major National Parks based around data on observations.\n",
    "\n",
    "The project will seek to asnwer the following questions:\n",
    " - Which group of animals has the highest number of endangered species?\n",
    " - Do some groups have a higher percentage of endangered species than others?\n",
    " - Which bird is most prevelant and how are their observations distributed between the documented parks?\n",
    " \n",
    " **Data sources**\n",
    " \n",
    "Both `Observations.csv` and `Species_info.csv` was provided by [Codecademy.com](https://www.codecademy.com).\n",
    "\n",
    "Note: The data for this project is *inspired* by real data, but is mostly fictional."
   ]
  },
  {
   "cell_type": "markdown",
   "metadata": {},
   "source": [
    "## Loading the Data\n",
    "\n",
    "Below I imported the data using `pandas` "
   ]
  },
  {
   "cell_type": "code",
   "execution_count": 1,
   "metadata": {},
   "outputs": [],
   "source": [
    "import pandas as pd\n",
    "import numpy as np\n",
    "import seaborn as sns\n",
    "from matplotlib import pyplot as plt\n"
   ]
  },
  {
   "cell_type": "code",
   "execution_count": 2,
   "metadata": {},
   "outputs": [],
   "source": [
    "observations = pd.read_csv('observations.csv')\n",
    "species_info = pd.read_csv('species_info.csv')"
   ]
  },
  {
   "cell_type": "markdown",
   "metadata": {},
   "source": [
    "**species_info**\n",
    "\n",
    "The `species_info` db included the following columns:\n",
    "- `category`: The taxonomical category for each species\n",
    "- `scientific_name`: The scientific name for each species\n",
    "- `common_names`: The common names for the species\n",
    "- `conservation_status`: The conservation status for each species\n",
    "\n",
    "We can also see the different categories that were included in the database:\n",
    "- `Mammal`\n",
    "- `Bird`\n",
    "- `Reptile`\n",
    "- `Amphibian`\n",
    "- `Fish`\n",
    "- `Vascular Plant`\n",
    "- `Nonvascular Plant`"
   ]
  },
  {
   "cell_type": "code",
   "execution_count": 3,
   "metadata": {},
   "outputs": [
    {
     "name": "stdout",
     "output_type": "stream",
     "text": [
      "  category                scientific_name  \\\n",
      "0   Mammal  Clethrionomys gapperi gapperi   \n",
      "1   Mammal                      Bos bison   \n",
      "2   Mammal                     Bos taurus   \n",
      "3   Mammal                     Ovis aries   \n",
      "4   Mammal                 Cervus elaphus   \n",
      "\n",
      "                                        common_names conservation_status  \n",
      "0                           Gapper's Red-Backed Vole                 NaN  \n",
      "1                              American Bison, Bison                 NaN  \n",
      "2  Aurochs, Aurochs, Domestic Cattle (Feral), Dom...                 NaN  \n",
      "3  Domestic Sheep, Mouflon, Red Sheep, Sheep (Feral)                 NaN  \n",
      "4                                      Wapiti Or Elk                 NaN  \n",
      "['Mammal' 'Bird' 'Reptile' 'Amphibian' 'Fish' 'Vascular Plant'\n",
      " 'Nonvascular Plant']\n"
     ]
    }
   ],
   "source": [
    "print(species_info.head())\n",
    "print(species_info.category.unique())"
   ]
  },
  {
   "cell_type": "markdown",
   "metadata": {},
   "source": [
    "Next we take a look at the `observations` database.\n",
    "\n",
    "`observations` contains the following columns:\n",
    "- `scientific_name`: The scientific name for each species\n",
    "- `park_name`: The name of the park where the observations took place\n",
    "- `observations`: How many observations of the species were taken during the time period\n",
    "\n",
    "Below the `observations` table we see the names of the parks that are included:\n",
    "- `Great Smokey Mountains National Park`\n",
    "- `Yosemite National Park`\n",
    "- `Bryce National Park`\n",
    "- `Yellowstone National Park`"
   ]
  },
  {
   "cell_type": "code",
   "execution_count": 4,
   "metadata": {},
   "outputs": [
    {
     "name": "stdout",
     "output_type": "stream",
     "text": [
      "            scientific_name                            park_name  observations\n",
      "0        Vicia benghalensis  Great Smoky Mountains National Park            68\n",
      "1            Neovison vison  Great Smoky Mountains National Park            77\n",
      "2         Prunus subcordata               Yosemite National Park           138\n",
      "3      Abutilon theophrasti                  Bryce National Park            84\n",
      "4  Githopsis specularioides  Great Smoky Mountains National Park            85\n",
      "['Great Smoky Mountains National Park' 'Yosemite National Park'\n",
      " 'Bryce National Park' 'Yellowstone National Park']\n"
     ]
    }
   ],
   "source": [
    "print(observations.head())\n",
    "print(observations.park_name.unique())"
   ]
  },
  {
   "cell_type": "markdown",
   "metadata": {},
   "source": [
    "First we will look at information from the `species_info` database. \n",
    "\n",
    "Here we see what the various levels of `conservation_status`:\n",
    "- `nan`\n",
    "- `Species of Concern`\n",
    "- `Endangered`\n",
    "- `Threatened`\n",
    "- `In Recovery`"
   ]
  },
  {
   "cell_type": "code",
   "execution_count": 5,
   "metadata": {},
   "outputs": [
    {
     "name": "stdout",
     "output_type": "stream",
     "text": [
      "[nan 'Species of Concern' 'Endangered' 'Threatened' 'In Recovery']\n"
     ]
    }
   ],
   "source": [
    "print(species_info.conservation_status.unique())"
   ]
  },
  {
   "cell_type": "markdown",
   "metadata": {},
   "source": [
    "There are null values present in the `conservation_status` column. Since those represent species that are not endangered, they have been replaced with `Not Endangered`\n",
    "\n",
    "To make future calculations easier we will also add the columnd `is_endangered` to give a binary indicator if the species is endangered or not."
   ]
  },
  {
   "cell_type": "code",
   "execution_count": 6,
   "metadata": {
    "scrolled": true
   },
   "outputs": [],
   "source": [
    "species_info.conservation_status = species_info.conservation_status.fillna('Not Endangered')\n",
    "species_info['is_endangered'] = species_info.conservation_status != 'Not Endangered'"
   ]
  },
  {
   "cell_type": "markdown",
   "metadata": {},
   "source": [
    "Next, this project will focus on animal species, so a new database, `animals`, is created by removing the plant species.\n"
   ]
  },
  {
   "cell_type": "code",
   "execution_count": 7,
   "metadata": {
    "scrolled": true
   },
   "outputs": [
    {
     "data": {
      "text/html": [
       "<div>\n",
       "<style scoped>\n",
       "    .dataframe tbody tr th:only-of-type {\n",
       "        vertical-align: middle;\n",
       "    }\n",
       "\n",
       "    .dataframe tbody tr th {\n",
       "        vertical-align: top;\n",
       "    }\n",
       "\n",
       "    .dataframe thead th {\n",
       "        text-align: right;\n",
       "    }\n",
       "</style>\n",
       "<table border=\"1\" class=\"dataframe\">\n",
       "  <thead>\n",
       "    <tr style=\"text-align: right;\">\n",
       "      <th></th>\n",
       "      <th>category</th>\n",
       "      <th>scientific_name</th>\n",
       "      <th>common_names</th>\n",
       "      <th>conservation_status</th>\n",
       "      <th>is_endangered</th>\n",
       "    </tr>\n",
       "  </thead>\n",
       "  <tbody>\n",
       "    <tr>\n",
       "      <th>0</th>\n",
       "      <td>Mammal</td>\n",
       "      <td>Clethrionomys gapperi gapperi</td>\n",
       "      <td>Gapper's Red-Backed Vole</td>\n",
       "      <td>Not Endangered</td>\n",
       "      <td>False</td>\n",
       "    </tr>\n",
       "    <tr>\n",
       "      <th>1</th>\n",
       "      <td>Mammal</td>\n",
       "      <td>Bos bison</td>\n",
       "      <td>American Bison, Bison</td>\n",
       "      <td>Not Endangered</td>\n",
       "      <td>False</td>\n",
       "    </tr>\n",
       "    <tr>\n",
       "      <th>2</th>\n",
       "      <td>Mammal</td>\n",
       "      <td>Bos taurus</td>\n",
       "      <td>Aurochs, Aurochs, Domestic Cattle (Feral), Dom...</td>\n",
       "      <td>Not Endangered</td>\n",
       "      <td>False</td>\n",
       "    </tr>\n",
       "    <tr>\n",
       "      <th>3</th>\n",
       "      <td>Mammal</td>\n",
       "      <td>Ovis aries</td>\n",
       "      <td>Domestic Sheep, Mouflon, Red Sheep, Sheep (Feral)</td>\n",
       "      <td>Not Endangered</td>\n",
       "      <td>False</td>\n",
       "    </tr>\n",
       "    <tr>\n",
       "      <th>4</th>\n",
       "      <td>Mammal</td>\n",
       "      <td>Cervus elaphus</td>\n",
       "      <td>Wapiti Or Elk</td>\n",
       "      <td>Not Endangered</td>\n",
       "      <td>False</td>\n",
       "    </tr>\n",
       "  </tbody>\n",
       "</table>\n",
       "</div>"
      ],
      "text/plain": [
       "  category                scientific_name  \\\n",
       "0   Mammal  Clethrionomys gapperi gapperi   \n",
       "1   Mammal                      Bos bison   \n",
       "2   Mammal                     Bos taurus   \n",
       "3   Mammal                     Ovis aries   \n",
       "4   Mammal                 Cervus elaphus   \n",
       "\n",
       "                                        common_names conservation_status  \\\n",
       "0                           Gapper's Red-Backed Vole      Not Endangered   \n",
       "1                              American Bison, Bison      Not Endangered   \n",
       "2  Aurochs, Aurochs, Domestic Cattle (Feral), Dom...      Not Endangered   \n",
       "3  Domestic Sheep, Mouflon, Red Sheep, Sheep (Feral)      Not Endangered   \n",
       "4                                      Wapiti Or Elk      Not Endangered   \n",
       "\n",
       "   is_endangered  \n",
       "0          False  \n",
       "1          False  \n",
       "2          False  \n",
       "3          False  \n",
       "4          False  "
      ]
     },
     "execution_count": 7,
     "metadata": {},
     "output_type": "execute_result"
    }
   ],
   "source": [
    "animals = species_info[(species_info.category != 'Vascular Plant') & (species_info.category != 'Nonvascular Plant')]\n",
    "animals.head()"
   ]
  },
  {
   "cell_type": "markdown",
   "metadata": {},
   "source": [
    "In order to simply looking at the various animal categories, a database is created for each category.\n",
    "\n",
    "A list of databases and a title for each is then made."
   ]
  },
  {
   "cell_type": "code",
   "execution_count": 8,
   "metadata": {},
   "outputs": [],
   "source": [
    "mammals = animals[animals.category == 'Mammal']\n",
    "birds = animals[animals.category == 'Bird']\n",
    "reptiles = animals[animals.category == 'Reptile']\n",
    "amphibians = animals[animals.category == 'Amphibian']\n",
    "fish = animals[animals.category == 'Fish']\n",
    "\n",
    "categories = [[animals, 'Animals'], [mammals, 'Mammals'], [birds, 'Birds'], [reptiles, 'Reptiles'], [amphibians, 'Amphibians'], [fish, 'Fish']]"
   ]
  },
  {
   "cell_type": "markdown",
   "metadata": {},
   "source": [
    "Next we create a look to discover the following calculations:\n",
    "- How many species are in each category?\n",
    "- What percentage of animals are endangered in each category?\n",
    "- What percentage of endangered animals fall into each level of `conservation_status`?"
   ]
  },
  {
   "cell_type": "code",
   "execution_count": 9,
   "metadata": {},
   "outputs": [
    {
     "name": "stdout",
     "output_type": "stream",
     "text": [
      "\n",
      "    Animals have: \n",
      "     - 1021 total species\n",
      "     - 13.71% (140) categorized as some form of Endangered\n",
      "     - 11.07% (113) categorized as \"Species of Concern\"\n",
      "     - 1.47% (15) categorized as \"Endangered\"\n",
      "     - 0.78% (8) categorized as \"Threatened\"\n",
      "     - 0.39% (4) categorized as \"In Recovery\"\n",
      "     \n",
      "\n",
      "    Mammals have: \n",
      "     - 214 total species\n",
      "     - 17.76% (38) categorized as some form of Endangered\n",
      "     - 13.08% (28) categorized as \"Species of Concern\"\n",
      "     - 3.27% (7) categorized as \"Endangered\"\n",
      "     - 0.93% (2) categorized as \"Threatened\"\n",
      "     - 0.47% (1) categorized as \"In Recovery\"\n",
      "     \n",
      "\n",
      "    Birds have: \n",
      "     - 521 total species\n",
      "     - 15.16% (79) categorized as some form of Endangered\n",
      "     - 13.82% (72) categorized as \"Species of Concern\"\n",
      "     - 0.77% (4) categorized as \"Endangered\"\n",
      "     - 0.0% (0) categorized as \"Threatened\"\n",
      "     - 0.58% (3) categorized as \"In Recovery\"\n",
      "     \n",
      "\n",
      "    Reptiles have: \n",
      "     - 79 total species\n",
      "     - 6.33% (5) categorized as some form of Endangered\n",
      "     - 6.33% (5) categorized as \"Species of Concern\"\n",
      "     - 0.0% (0) categorized as \"Endangered\"\n",
      "     - 0.0% (0) categorized as \"Threatened\"\n",
      "     - 0.0% (0) categorized as \"In Recovery\"\n",
      "     \n",
      "\n",
      "    Amphibians have: \n",
      "     - 80 total species\n",
      "     - 8.75% (7) categorized as some form of Endangered\n",
      "     - 5.0% (4) categorized as \"Species of Concern\"\n",
      "     - 1.25% (1) categorized as \"Endangered\"\n",
      "     - 2.5% (2) categorized as \"Threatened\"\n",
      "     - 0.0% (0) categorized as \"In Recovery\"\n",
      "     \n",
      "\n",
      "    Fish have: \n",
      "     - 127 total species\n",
      "     - 8.66% (11) categorized as some form of Endangered\n",
      "     - 3.15% (4) categorized as \"Species of Concern\"\n",
      "     - 2.36% (3) categorized as \"Endangered\"\n",
      "     - 3.15% (4) categorized as \"Threatened\"\n",
      "     - 0.0% (0) categorized as \"In Recovery\"\n",
      "     \n"
     ]
    }
   ],
   "source": [
    "for category in categories:\n",
    "    length = len(category[0])\n",
    "    total = len(category[0][category[0].conservation_status != 'Not Endangered'])\n",
    "    concern = len(category[0][category[0].conservation_status == 'Species of Concern'])\n",
    "    endangered = len(category[0][category[0].conservation_status == 'Endangered'])\n",
    "    threatened = len(category[0][category[0].conservation_status =='Threatened'])\n",
    "    recovery = len(category[0][category[0].conservation_status == 'In Recovery'])\n",
    "    print(f'''\n",
    "    {category[1]} have: \n",
    "     - {length} total species\n",
    "     - {round(total/length * 100, 2)}% ({total}) categorized as some form of Endangered\n",
    "     - {round(concern/length * 100, 2)}% ({concern}) categorized as \"Species of Concern\"\n",
    "     - {round(endangered/length * 100, 2)}% ({endangered}) categorized as \"Endangered\"\n",
    "     - {round(threatened/length * 100, 2)}% ({threatened}) categorized as \"Threatened\"\n",
    "     - {round(recovery/length * 100, 2)}% ({recovery}) categorized as \"In Recovery\"\n",
    "     ''')"
   ]
  },
  {
   "cell_type": "markdown",
   "metadata": {},
   "source": [
    "This data shows us the following:\n",
    "- `Mammals` have the **highest percentage** of endangered animals at `17.76%`\n",
    "- `Birds` have the **most** endangered species at `79`\n",
    "- `Reptiles` have the **lowest percentage** and **total** endangered species at `6.63%` and `5`\n",
    "- `Mammals` and `Birds` have a **higher than average** percentage of endangered species. (above 13%)\n",
    "- `Reptiles`, `Amphibians`, and `Fish` have a **lower than average** percentage of endangered species (below 13%)\n",
    "\n",
    "The next step is to discover if the difference between the **higher percentage** are statistically significantly different the the **lower percentage** categories. This is done using a chi_2 test. \n",
    "\n",
    "The tests are as followed:\n",
    "- `contingency1` is between `Birds` and `Amphibians`\n",
    "- `contingency2` is between `Mammals` and `Amphibians`\n",
    "- `contingency3` is between `Mammals` and `Reptiles`\n"
   ]
  },
  {
   "cell_type": "code",
   "execution_count": 10,
   "metadata": {
    "scrolled": true
   },
   "outputs": [
    {
     "name": "stdout",
     "output_type": "stream",
     "text": [
      "Birds and Amphibians pval: 0.1758277976037415\n",
      "Mammals and Amphibians pval: 0.08416928847464508\n",
      "Mammals and Reptiles pval: 0.02338465214871547\n"
     ]
    }
   ],
   "source": [
    "from scipy.stats import chi2_contingency\n",
    "\n",
    "contingency1 = [[521 - 79, 79], \n",
    "                [80 - 7, 7]]\n",
    "chi2, pval1, dof, expected = chi2_contingency(contingency1)\n",
    "print(f'Birds and Amphibians pval: {pval1}')\n",
    "\n",
    "contingency2 = [[214 - 38, 38], \n",
    "                [80 - 7, 7]]\n",
    "chi2, pval2, dof, expected = chi2_contingency(contingency2)\n",
    "print(f'Mammals and Amphibians pval: {pval2}')\n",
    "\n",
    "contingency3 = [[214 - 38, 38], \n",
    "                [79 - 5, 5]]\n",
    "chi2, pval3, dof, expected = chi2_contingency(contingency3)\n",
    "print(f'Mammals and Reptiles pval: {pval3}')\n",
    "\n",
    "\n"
   ]
  },
  {
   "cell_type": "markdown",
   "metadata": {},
   "source": [
    "In order for there to be a statistically significant difference the p-values need to be below **0.05**. Our data shows that only `Mammals` and `Reptiles` were statistically different. "
   ]
  },
  {
   "cell_type": "code",
   "execution_count": 11,
   "metadata": {},
   "outputs": [
    {
     "name": "stdout",
     "output_type": "stream",
     "text": [
      "  category                scientific_name        common_names  \\\n",
      "0     Bird  Vermivora pinus X chrysoptera  Brewster's Warbler   \n",
      "1     Bird  Vermivora pinus X chrysoptera  Brewster's Warbler   \n",
      "2     Bird  Vermivora pinus X chrysoptera  Brewster's Warbler   \n",
      "3     Bird  Vermivora pinus X chrysoptera  Brewster's Warbler   \n",
      "4     Bird             Accipiter cooperii       Cooper's Hawk   \n",
      "\n",
      "  conservation_status  is_endangered                            park_name  \\\n",
      "0      Not Endangered          False  Great Smoky Mountains National Park   \n",
      "1      Not Endangered          False               Yosemite National Park   \n",
      "2      Not Endangered          False            Yellowstone National Park   \n",
      "3      Not Endangered          False                  Bryce National Park   \n",
      "4  Species of Concern           True                  Bryce National Park   \n",
      "\n",
      "   observations  \n",
      "0            98  \n",
      "1           136  \n",
      "2           259  \n",
      "3            89  \n",
      "4            95  \n"
     ]
    }
   ],
   "source": [
    "birds_merged = pd.merge(birds, observations, how='left', on='scientific_name')\n",
    "\n",
    "print(birds_merged.head())"
   ]
  },
  {
   "cell_type": "code",
   "execution_count": 12,
   "metadata": {},
   "outputs": [
    {
     "name": "stdout",
     "output_type": "stream",
     "text": [
      "[[\"Brewster's\", 'Warbler'], [\"Brewster's\", 'Warbler'], [\"Brewster's\", 'Warbler'], [\"Brewster's\", 'Warbler'], [\"Cooper's\", 'Hawk']]\n"
     ]
    }
   ],
   "source": [
    "def remove_punctuation(string):\n",
    "    lst = []\n",
    "    for word in string.split(\" \"):\n",
    "        word.replace('\\w', \"\")\n",
    "        lst.append(word)\n",
    "    return \" \".join(lst)\n",
    "\n",
    "names_full = birds_merged\\\n",
    "    .common_names\\\n",
    "    .apply(remove_punctuation)\\\n",
    "    .str.split().tolist()\n",
    "\n",
    "print(names_full[:5])"
   ]
  },
  {
   "cell_type": "code",
   "execution_count": 13,
   "metadata": {},
   "outputs": [
    {
     "name": "stdout",
     "output_type": "stream",
     "text": [
      "[\"Brewster's\", 'Warbler', \"Brewster's\", 'Warbler', \"Brewster's\"]\n"
     ]
    }
   ],
   "source": [
    "names_filtered = []\n",
    "\n",
    "for lst in names_full:\n",
    "    for word in lst:\n",
    "        names_filtered.append(word)\n",
    "            \n",
    "print(names_filtered[:5])"
   ]
  },
  {
   "cell_type": "code",
   "execution_count": 14,
   "metadata": {
    "scrolled": true
   },
   "outputs": [
    {
     "data": {
      "text/html": [
       "<div>\n",
       "<style scoped>\n",
       "    .dataframe tbody tr th:only-of-type {\n",
       "        vertical-align: middle;\n",
       "    }\n",
       "\n",
       "    .dataframe tbody tr th {\n",
       "        vertical-align: top;\n",
       "    }\n",
       "\n",
       "    .dataframe thead th {\n",
       "        text-align: right;\n",
       "    }\n",
       "</style>\n",
       "<table border=\"1\" class=\"dataframe\">\n",
       "  <thead>\n",
       "    <tr style=\"text-align: right;\">\n",
       "      <th></th>\n",
       "      <th>Word</th>\n",
       "      <th>Count</th>\n",
       "    </tr>\n",
       "  </thead>\n",
       "  <tbody>\n",
       "    <tr>\n",
       "      <th>130</th>\n",
       "      <td>Warbler</td>\n",
       "      <td>236</td>\n",
       "    </tr>\n",
       "    <tr>\n",
       "      <th>490</th>\n",
       "      <td>Sparrow</td>\n",
       "      <td>124</td>\n",
       "    </tr>\n",
       "    <tr>\n",
       "      <th>307</th>\n",
       "      <td>Northern</td>\n",
       "      <td>116</td>\n",
       "    </tr>\n",
       "    <tr>\n",
       "      <th>280</th>\n",
       "      <td>Common</td>\n",
       "      <td>96</td>\n",
       "    </tr>\n",
       "    <tr>\n",
       "      <th>363</th>\n",
       "      <td>American</td>\n",
       "      <td>92</td>\n",
       "    </tr>\n",
       "    <tr>\n",
       "      <th>216</th>\n",
       "      <td>Flycatcher</td>\n",
       "      <td>80</td>\n",
       "    </tr>\n",
       "    <tr>\n",
       "      <th>282</th>\n",
       "      <td>Owl</td>\n",
       "      <td>76</td>\n",
       "    </tr>\n",
       "    <tr>\n",
       "      <th>413</th>\n",
       "      <td>Great</td>\n",
       "      <td>68</td>\n",
       "    </tr>\n",
       "    <tr>\n",
       "      <th>43</th>\n",
       "      <td>Western</td>\n",
       "      <td>68</td>\n",
       "    </tr>\n",
       "    <tr>\n",
       "      <th>26</th>\n",
       "      <td>Gray</td>\n",
       "      <td>60</td>\n",
       "    </tr>\n",
       "    <tr>\n",
       "      <th>244</th>\n",
       "      <td>Woodpecker</td>\n",
       "      <td>56</td>\n",
       "    </tr>\n",
       "    <tr>\n",
       "      <th>402</th>\n",
       "      <td>Eurasian</td>\n",
       "      <td>56</td>\n",
       "    </tr>\n",
       "    <tr>\n",
       "      <th>155</th>\n",
       "      <td>Eastern</td>\n",
       "      <td>52</td>\n",
       "    </tr>\n",
       "    <tr>\n",
       "      <th>58</th>\n",
       "      <td>Rock</td>\n",
       "      <td>52</td>\n",
       "    </tr>\n",
       "    <tr>\n",
       "      <th>95</th>\n",
       "      <td>Vireo</td>\n",
       "      <td>44</td>\n",
       "    </tr>\n",
       "  </tbody>\n",
       "</table>\n",
       "</div>"
      ],
      "text/plain": [
       "           Word  Count\n",
       "130     Warbler    236\n",
       "490     Sparrow    124\n",
       "307    Northern    116\n",
       "280      Common     96\n",
       "363    American     92\n",
       "216  Flycatcher     80\n",
       "282         Owl     76\n",
       "413       Great     68\n",
       "43      Western     68\n",
       "26         Gray     60\n",
       "244  Woodpecker     56\n",
       "402    Eurasian     56\n",
       "155     Eastern     52\n",
       "58         Rock     52\n",
       "95        Vireo     44"
      ]
     },
     "execution_count": 14,
     "metadata": {},
     "output_type": "execute_result"
    }
   ],
   "source": [
    "words_counted = []\n",
    "\n",
    "for i in names_filtered:\n",
    "    x = names_filtered.count(i)\n",
    "    words_counted.append((i,x))\n",
    "\n",
    "pd.DataFrame(set(words_counted), columns =['Word', 'Count']).sort_values(\"Count\", ascending = False).head(15)"
   ]
  },
  {
   "cell_type": "code",
   "execution_count": 15,
   "metadata": {
    "scrolled": true
   },
   "outputs": [
    {
     "data": {
      "text/html": [
       "<div>\n",
       "<style scoped>\n",
       "    .dataframe tbody tr th:only-of-type {\n",
       "        vertical-align: middle;\n",
       "    }\n",
       "\n",
       "    .dataframe tbody tr th {\n",
       "        vertical-align: top;\n",
       "    }\n",
       "\n",
       "    .dataframe thead th {\n",
       "        text-align: right;\n",
       "    }\n",
       "</style>\n",
       "<table border=\"1\" class=\"dataframe\">\n",
       "  <thead>\n",
       "    <tr style=\"text-align: right;\">\n",
       "      <th></th>\n",
       "      <th>category</th>\n",
       "      <th>scientific_name</th>\n",
       "      <th>common_names</th>\n",
       "      <th>conservation_status</th>\n",
       "      <th>is_endangered</th>\n",
       "      <th>park_name</th>\n",
       "      <th>observations</th>\n",
       "      <th>is_warbler</th>\n",
       "    </tr>\n",
       "  </thead>\n",
       "  <tbody>\n",
       "    <tr>\n",
       "      <th>0</th>\n",
       "      <td>Bird</td>\n",
       "      <td>Vermivora pinus X chrysoptera</td>\n",
       "      <td>Brewster's Warbler</td>\n",
       "      <td>Not Endangered</td>\n",
       "      <td>False</td>\n",
       "      <td>Great Smoky Mountains National Park</td>\n",
       "      <td>98</td>\n",
       "      <td>True</td>\n",
       "    </tr>\n",
       "    <tr>\n",
       "      <th>1</th>\n",
       "      <td>Bird</td>\n",
       "      <td>Vermivora pinus X chrysoptera</td>\n",
       "      <td>Brewster's Warbler</td>\n",
       "      <td>Not Endangered</td>\n",
       "      <td>False</td>\n",
       "      <td>Yosemite National Park</td>\n",
       "      <td>136</td>\n",
       "      <td>True</td>\n",
       "    </tr>\n",
       "    <tr>\n",
       "      <th>2</th>\n",
       "      <td>Bird</td>\n",
       "      <td>Vermivora pinus X chrysoptera</td>\n",
       "      <td>Brewster's Warbler</td>\n",
       "      <td>Not Endangered</td>\n",
       "      <td>False</td>\n",
       "      <td>Yellowstone National Park</td>\n",
       "      <td>259</td>\n",
       "      <td>True</td>\n",
       "    </tr>\n",
       "    <tr>\n",
       "      <th>3</th>\n",
       "      <td>Bird</td>\n",
       "      <td>Vermivora pinus X chrysoptera</td>\n",
       "      <td>Brewster's Warbler</td>\n",
       "      <td>Not Endangered</td>\n",
       "      <td>False</td>\n",
       "      <td>Bryce National Park</td>\n",
       "      <td>89</td>\n",
       "      <td>True</td>\n",
       "    </tr>\n",
       "    <tr>\n",
       "      <th>4</th>\n",
       "      <td>Bird</td>\n",
       "      <td>Accipiter cooperii</td>\n",
       "      <td>Cooper's Hawk</td>\n",
       "      <td>Species of Concern</td>\n",
       "      <td>True</td>\n",
       "      <td>Bryce National Park</td>\n",
       "      <td>95</td>\n",
       "      <td>False</td>\n",
       "    </tr>\n",
       "  </tbody>\n",
       "</table>\n",
       "</div>"
      ],
      "text/plain": [
       "  category                scientific_name        common_names  \\\n",
       "0     Bird  Vermivora pinus X chrysoptera  Brewster's Warbler   \n",
       "1     Bird  Vermivora pinus X chrysoptera  Brewster's Warbler   \n",
       "2     Bird  Vermivora pinus X chrysoptera  Brewster's Warbler   \n",
       "3     Bird  Vermivora pinus X chrysoptera  Brewster's Warbler   \n",
       "4     Bird             Accipiter cooperii       Cooper's Hawk   \n",
       "\n",
       "  conservation_status  is_endangered                            park_name  \\\n",
       "0      Not Endangered          False  Great Smoky Mountains National Park   \n",
       "1      Not Endangered          False               Yosemite National Park   \n",
       "2      Not Endangered          False            Yellowstone National Park   \n",
       "3      Not Endangered          False                  Bryce National Park   \n",
       "4  Species of Concern           True                  Bryce National Park   \n",
       "\n",
       "   observations  is_warbler  \n",
       "0            98        True  \n",
       "1           136        True  \n",
       "2           259        True  \n",
       "3            89        True  \n",
       "4            95       False  "
      ]
     },
     "execution_count": 15,
     "metadata": {},
     "output_type": "execute_result"
    }
   ],
   "source": [
    "birds_merged['is_warbler'] = birds_merged.common_names.str.contains(r\"\\bWarbler\\b\", regex=True)\n",
    "birds_merged.head()"
   ]
  },
  {
   "cell_type": "code",
   "execution_count": 16,
   "metadata": {},
   "outputs": [
    {
     "name": "stdout",
     "output_type": "stream",
     "text": [
      "    category                scientific_name                 common_names  \\\n",
      "0       Bird  Vermivora pinus X chrysoptera           Brewster's Warbler   \n",
      "1       Bird  Vermivora pinus X chrysoptera           Brewster's Warbler   \n",
      "2       Bird  Vermivora pinus X chrysoptera           Brewster's Warbler   \n",
      "3       Bird  Vermivora pinus X chrysoptera           Brewster's Warbler   \n",
      "680     Bird         Dendroica caerulescens  Black-Throated Blue Warbler   \n",
      "\n",
      "    conservation_status  is_endangered                            park_name  \\\n",
      "0        Not Endangered          False  Great Smoky Mountains National Park   \n",
      "1        Not Endangered          False               Yosemite National Park   \n",
      "2        Not Endangered          False            Yellowstone National Park   \n",
      "3        Not Endangered          False                  Bryce National Park   \n",
      "680      Not Endangered          False                  Bryce National Park   \n",
      "\n",
      "     observations  is_warbler  \n",
      "0              98        True  \n",
      "1             136        True  \n",
      "2             259        True  \n",
      "3              89        True  \n",
      "680            94        True  \n"
     ]
    }
   ],
   "source": [
    "warblers = birds_merged[birds_merged.is_warbler]\n",
    "print(warblers.head())"
   ]
  },
  {
   "cell_type": "code",
   "execution_count": 17,
   "metadata": {},
   "outputs": [
    {
     "name": "stdout",
     "output_type": "stream",
     "text": [
      "                             park_name  is_endangered  observations\n",
      "0                  Bryce National Park          False          5565\n",
      "1                  Bryce National Park           True           195\n",
      "2  Great Smoky Mountains National Park          False          4290\n",
      "3  Great Smoky Mountains National Park           True           145\n",
      "4            Yellowstone National Park          False         13995\n",
      "5            Yellowstone National Park           True           492\n",
      "6               Yosemite National Park          False          8441\n",
      "7               Yosemite National Park           True           271\n"
     ]
    }
   ],
   "source": [
    "by_park = warblers.groupby(['park_name', 'is_endangered']).observations.sum().reset_index()\n",
    "print(by_park)"
   ]
  },
  {
   "cell_type": "code",
   "execution_count": 18,
   "metadata": {},
   "outputs": [
    {
     "data": {
      "image/png": "[encoded data removed]",
      "text/plain": [
       "<Figure size 1152x576 with 1 Axes>"
      ]
     },
     "metadata": {
      "needs_background": "light"
     },
     "output_type": "display_data"
    }
   ],
   "source": [
    "plt.figure(figsize=(16, 8))\n",
    "sns.barplot(data=by_park, x='park_name', y='observations', hue='is_endangered')\n",
    "plt.show()"
   ]
  },
  {
   "cell_type": "code",
   "execution_count": 19,
   "metadata": {},
   "outputs": [
    {
     "name": "stdout",
     "output_type": "stream",
     "text": [
      "\n",
      "    3% of warbler observations in 'Bryce National Park' are of endengered species \n",
      "    \n",
      "\n",
      "    3% of warbler observations in 'Great Smoky Mountains National Park' are of endengered species \n",
      "    \n",
      "\n",
      "    3% of warbler observations in 'Yellowstone National Park' are of endengered species \n",
      "    \n",
      "\n",
      "    3% of warbler observations in 'Yosemite National Park' are of endengered species \n",
      "    \n"
     ]
    }
   ],
   "source": [
    "parks = ['Bryce National Park', 'Great Smoky Mountains National Park', 'Yellowstone National Park', 'Yosemite National Park']\n",
    "\n",
    "for park in parks:\n",
    "    park_db = by_park[by_park.park_name == park]\n",
    "    total = park_db.observations.sum()\n",
    "    per = round((park_db.loc[park_db.is_endangered].observations.sum() / total), 2)\n",
    "    print(f\"\"\"\n",
    "    {int(per * 100)}% of warbler observations in '{park}' are of endengered species \n",
    "    \"\"\")"
   ]
  }
 ],
 "metadata": {
  "kernelspec": {
   "display_name": "Python 3",
   "language": "python",
   "name": "python3"
  },
  "language_info": {
   "codemirror_mode": {
    "name": "ipython",
    "version": 3
   },
   "file_extension": ".py",
   "mimetype": "text/x-python",
   "name": "python",
   "nbconvert_exporter": "python",
   "pygments_lexer": "ipython3",
   "version": "3.8.8"
  }
 },
 "nbformat": 4,
 "nbformat_minor": 4
}
